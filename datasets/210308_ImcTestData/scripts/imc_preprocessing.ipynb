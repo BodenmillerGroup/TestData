{
 "cells": [
  {
   "cell_type": "code",
   "execution_count": 1,
   "metadata": {
    "jupyter": {
     "outputs_hidden": false
    },
    "pycharm": {
     "name": "#%%\n"
    }
   },
   "outputs": [],
   "source": [
    "from imctools.converters import ome2analysis\n",
    "from imctools.converters import ome2histocat\n",
    "from imctools.converters import mcdfolder2imcfolder\n",
    "from imctools.converters import exportacquisitioncsv"
   ]
  },
  {
   "cell_type": "code",
   "execution_count": 2,
   "metadata": {
    "jupyter": {
     "outputs_hidden": false
    },
    "pycharm": {
     "name": "#%%\n"
    }
   },
   "outputs": [
    {
     "name": "stdout",
     "output_type": "stream",
     "text": [
      "['/Users/nils/Github/TestData/datasets/210308_ImcTestData/scripts', '/Users/nils/opt/anaconda3/envs/ImcSegmentationPipeline/lib/python38.zip', '/Users/nils/opt/anaconda3/envs/ImcSegmentationPipeline/lib/python3.8', '/Users/nils/opt/anaconda3/envs/ImcSegmentationPipeline/lib/python3.8/lib-dynload', '', '/Users/nils/opt/anaconda3/envs/ImcSegmentationPipeline/lib/python3.8/site-packages', '/Users/nils/opt/anaconda3/envs/ImcSegmentationPipeline/lib/python3.8/site-packages/IPython/extensions', '/Users/nils/.ipython']\n",
      "/Users/nils/opt/anaconda3/envs/ImcSegmentationPipeline/bin/python\n"
     ]
    }
   ],
   "source": [
    "import sys\n",
    "print(sys.path)\n",
    "print(sys.executable)"
   ]
  },
  {
   "cell_type": "code",
   "execution_count": 3,
   "metadata": {
    "jupyter": {
     "outputs_hidden": false
    },
    "pycharm": {
     "name": "#%%\n"
    }
   },
   "outputs": [],
   "source": [
    "import os\n",
    "import pathlib\n",
    "import shutil\n",
    "import re"
   ]
  },
  {
   "cell_type": "markdown",
   "metadata": {},
   "source": [
    "\n",
    "# The IMC preprocessing pipeline for multiplexed image analysis\n"
   ]
  },
  {
   "cell_type": "markdown",
   "metadata": {},
   "source": [
    "This is a pipeline to segment IMC data using Ilastik pixel classification as well as CellProfiler.\n",
    "\n",
    "To run install the conda `imctools` envrionment found in `Setup/conda_imctools.yml`.   \n",
    "\n",
    "-> Install conda  \n",
    "\n",
    "-> On a conda console type: `conda env create -f setup/conda_imctools.yml`\n",
    "\n",
    "Start a Jupyter instance in this environment to run this Jupyter Notebook.\n",
    "\n",
    "This notebook will automatically download example data.\n",
    "\n",
    "This dataset are zipped input_data_folders_path_inputs of the `.mcd` and all `.txt` files corresponding to one acquisitions session.\n",
    "This is my recomended data format as it preserves and contains all original metadata and enforces a consistent naming scheme.\n",
    "\n",
    "Note that the `description` image name can be found in the `..._Acquisition_meta.csv` generated together with the ome tiffs\n",
    "as well as in the `cpinp` folder later in the script.\n",
    "After analysis the `Image.csv` metadata file generated in Cellprofiller will also contain the `Description` as well as other important metadata for each\n",
    "image, such as acquisition frequency, time, location etc.\n",
    "\n",
    "For working with `.txt` files, please look at the older examples.\n",
    "\n",
    "For any feedback please contact: Vito, vito.zanotelli@uzh.ch"
   ]
  },
  {
   "cell_type": "code",
   "execution_count": 4,
   "metadata": {
    "jupyter": {
     "outputs_hidden": false
    },
    "pycharm": {
     "name": "#%%\n"
    }
   },
   "outputs": [],
   "source": [
    "# the input_data_folders_path_inputs with the ziped acquisition files for the analysis\n",
    "folders_path_inputs = ['../zips']\n",
    "\n",
    "# part that all considered files need to have in common\n",
    "input_file_regexp = '.*.zip'\n",
    "\n",
    "# output for OME tiffs\n",
    "folder_path_base = '../analysis'\n",
    "\n",
    "\n",
    "# pannel\n",
    "file_path_csv_panel = '../panel.csv'\n",
    "csv_panel_metal = 'Metal Tag'\n",
    "csv_panel_ilastik = 'ilastik'\n",
    "csv_panel_full = 'full'"
   ]
  },
  {
   "cell_type": "code",
   "execution_count": 5,
   "metadata": {
    "jupyter": {
     "outputs_hidden": false
    },
    "pycharm": {
     "name": "#%%\n"
    }
   },
   "outputs": [],
   "source": [
    "folder_path_base = pathlib.Path(folder_path_base)\n",
    "\n",
    "folders_path_inputs = [pathlib.Path(f) for f in folders_path_inputs]\n",
    "# parameters for resizing the images for ilastik\n",
    "\n",
    "folder_path_analysis = folder_path_base / 'tiffs'\n",
    "folder_path_ilastik= folder_path_base / 'ilastik'\n",
    "folder_path_ome= folder_path_base / 'ometiff'\n",
    "folder_path_cp = folder_path_base / 'cpout'\n",
    "folder_path_cp_input = folder_path_base / 'cpinp'\n",
    "folder_path_histocat = folder_path_base / 'histocat'\n",
    "\n",
    "# Other output\n",
    "file_path_cp_csv = folder_path_cp / 'panel.csv'\n",
    "file_path_full_channels_csv = folder_path_cp_input / 'full_channelmeta.csv'\n",
    "file_path_prob_channels_csv = folder_path_cp_input / 'probab_channelmeta_manual.csv'\n",
    "\n",
    "suffix_full = '_full'\n",
    "suffix_ilastik = '_ilastik'\n",
    "suffix_ilastik_scale = '_s2'\n",
    "suffix_mask = '_mask.tiff'\n",
    "suffix_probablities = '_Probabilities'\n",
    "\n",
    "\n",
    "failed_images = list()"
   ]
  },
  {
   "cell_type": "markdown",
   "metadata": {},
   "source": [
    "Generate all the input_data_folders_path_inputs if necessary"
   ]
  },
  {
   "cell_type": "code",
   "execution_count": 6,
   "metadata": {
    "jupyter": {
     "outputs_hidden": false
    },
    "pycharm": {
     "name": "#%%\n"
    }
   },
   "outputs": [],
   "source": [
    "for fol in [folder_path_base, folder_path_analysis, folder_path_ilastik,\n",
    "            folder_path_ome, folder_path_cp, folder_path_histocat,\n",
    "           folder_path_cp_input]:\n",
    "    if not fol.exists():\n",
    "        fol.mkdir(parents=True)"
   ]
  },
  {
   "cell_type": "markdown",
   "metadata": {},
   "source": [
    "Convert mcd containing input_data_folders_path_inputs into imc zip input_data_folders_path_inputs"
   ]
  },
  {
   "cell_type": "code",
   "execution_count": 7,
   "metadata": {
    "jupyter": {
     "outputs_hidden": false
    },
    "pycharm": {
     "name": "#%%\n"
    }
   },
   "outputs": [
    {
     "name": "stdout",
     "output_type": "stream",
     "text": [
      "CPU times: user 135 ms, sys: 47 ms, total: 182 ms\n",
      "Wall time: 758 ms\n"
     ]
    }
   ],
   "source": [
    "%%time\n",
    "failed_images = list()\n",
    "re_fn = re.compile(input_file_regexp)\n",
    "\n",
    "for fol in folders_path_inputs:\n",
    "    for fn in fol.glob('*'):\n",
    "        if re_fn.match(fn.name):\n",
    "            mcdfolder2imcfolder.mcdfolder_to_imcfolder(fn, output_folder=folder_path_ome,\n",
    "                                                       create_zip=False)"
   ]
  },
  {
   "cell_type": "markdown",
   "metadata": {},
   "source": [
    "Generate a csv with all the acquisition metadata"
   ]
  },
  {
   "cell_type": "code",
   "execution_count": 8,
   "metadata": {
    "jupyter": {
     "outputs_hidden": false
    },
    "pycharm": {
     "name": "#%%\n"
    }
   },
   "outputs": [],
   "source": [
    "exportacquisitioncsv.export_acquisition_csv(folder_path_ome, output_folder=folder_path_cp_input)"
   ]
  },
  {
   "cell_type": "markdown",
   "metadata": {},
   "source": [
    "Export a copy of the panel to the output folder"
   ]
  },
  {
   "cell_type": "code",
   "execution_count": 9,
   "metadata": {},
   "outputs": [
    {
     "data": {
      "text/plain": [
       "PosixPath('../analysis/cpout/panel.csv')"
      ]
     },
     "execution_count": 9,
     "metadata": {},
     "output_type": "execute_result"
    }
   ],
   "source": [
    "shutil.copy(file_path_csv_panel, file_path_cp_csv)"
   ]
  },
  {
   "cell_type": "markdown",
   "metadata": {},
   "source": [
    "Convert ome.tiffs to a HistoCAT compatible format, e.g. to do some visualization and channel checking.\n",
    "\n",
    "-> Only required if HistoCAT is used as an image browser"
   ]
  },
  {
   "cell_type": "code",
   "execution_count": 10,
   "metadata": {
    "jupyter": {
     "outputs_hidden": false
    },
    "pycharm": {
     "name": "#%%\n"
    }
   },
   "outputs": [
    {
     "name": "stdout",
     "output_type": "stream",
     "text": [
      "CPU times: user 78.6 ms, sys: 42.1 ms, total: 121 ms\n",
      "Wall time: 604 ms\n"
     ]
    }
   ],
   "source": [
    "%%time\n",
    "for fol in folder_path_ome.iterdir():\n",
    "    if fol.is_dir():\n",
    "        ome2histocat.omefolder_to_histocatfolder(fol, folder_path_histocat)"
   ]
  },
  {
   "cell_type": "markdown",
   "metadata": {},
   "source": [
    "Generate the analysis stacks"
   ]
  },
  {
   "cell_type": "code",
   "execution_count": 11,
   "metadata": {
    "jupyter": {
     "outputs_hidden": false
    },
    "pycharm": {
     "name": "#%%\n"
    }
   },
   "outputs": [],
   "source": [
    "list_analysis_stacks =[\n",
    "    (csv_panel_ilastik, suffix_ilastik, 0),\n",
    "    (csv_panel_full, suffix_full, 0)]"
   ]
  },
  {
   "cell_type": "code",
   "execution_count": 12,
   "metadata": {
    "jupyter": {
     "outputs_hidden": false
    },
    "pycharm": {
     "name": "#%%\n"
    }
   },
   "outputs": [
    {
     "name": "stdout",
     "output_type": "stream",
     "text": [
      "CPU times: user 257 ms, sys: 50.2 ms, total: 307 ms\n",
      "Wall time: 963 ms\n"
     ]
    }
   ],
   "source": [
    "%%time\n",
    "ome2analysis.omefolder_to_analysisfolder(folder_path_ome, folder_path_analysis, panel_csv_file=file_path_csv_panel,\n",
    "                                         analysis_stacks=(list_analysis_stacks), metalcolumn=csv_panel_metal)\n",
    "\n"
   ]
  },
  {
   "cell_type": "markdown",
   "metadata": {},
   "source": [
    "Copy one csv containing the channel order of the full stack in to the cellprofiler input folder"
   ]
  },
  {
   "cell_type": "code",
   "execution_count": 13,
   "metadata": {},
   "outputs": [
    {
     "data": {
      "text/plain": [
       "PosixPath('../analysis/cpinp/full_channelmeta.csv')"
      ]
     },
     "execution_count": 13,
     "metadata": {},
     "output_type": "execute_result"
    }
   ],
   "source": [
    "fn = next(folder_path_analysis.glob(f'*{suffix_full}.csv'))\n",
    "\n",
    "shutil.copy(fn, file_path_full_channels_csv)"
   ]
  },
  {
   "cell_type": "markdown",
   "metadata": {},
   "source": [
    "Generate channel metadata for the probability stack"
   ]
  },
  {
   "cell_type": "code",
   "execution_count": 14,
   "metadata": {},
   "outputs": [],
   "source": [
    "probab_meta = [\"CellCenter\", \"CellBorder\", \"Background\"]\n",
    "with open(file_path_prob_channels_csv, 'w') as f:\n",
    "    f.write('\\n'.join(probab_meta))"
   ]
  },
  {
   "cell_type": "code",
   "execution_count": 15,
   "metadata": {},
   "outputs": [
    {
     "name": "stdout",
     "output_type": "stream",
     "text": [
      "# packages in environment at /Users/nils/opt/anaconda3/envs/ImcSegmentationPipeline:\r\n",
      "#\r\n",
      "# Name                    Version                   Build  Channel\r\n",
      "appdirs                   1.4.4              pyh9f0ad1d_0    conda-forge\r\n",
      "appnope                   0.1.2            py38h50d1736_1    conda-forge\r\n",
      "argon2-cffi               20.1.0           py38h5406a74_2    conda-forge\r\n",
      "async_generator           1.10                       py_0    conda-forge\r\n",
      "attrs                     21.2.0             pyhd8ed1ab_0    conda-forge\r\n",
      "backcall                  0.2.0              pyh9f0ad1d_0    conda-forge\r\n",
      "backports                 1.0                        py_2    conda-forge\r\n",
      "backports.functools_lru_cache 1.6.4              pyhd8ed1ab_0    conda-forge\r\n",
      "bleach                    3.3.0              pyh44b312d_0    conda-forge\r\n",
      "blosc                     1.21.0               he49afe7_0    conda-forge\r\n",
      "brotli                    1.0.9                h046ec9c_4    conda-forge\r\n",
      "brotlipy                  0.7.0           py38h5406a74_1001    conda-forge\r\n",
      "brunsli                   0.1                  h046ec9c_0    conda-forge\r\n",
      "bzip2                     1.0.8                h0d85af4_4    conda-forge\r\n",
      "c-ares                    1.17.1               h0d85af4_1    conda-forge\r\n",
      "ca-certificates           2021.5.30            h033912b_0    conda-forge\r\n",
      "certifi                   2021.5.30        py38h50d1736_0    conda-forge\r\n",
      "cffi                      1.14.5           py38ha97d567_0    conda-forge\r\n",
      "cfitsio                   3.470                h01dc385_7    conda-forge\r\n",
      "chardet                   4.0.0            py38h50d1736_1    conda-forge\r\n",
      "charls                    2.2.0                h046ec9c_0    conda-forge\r\n",
      "cloudpickle               1.6.0                      py_0    conda-forge\r\n",
      "cryptography              3.4.7            py38h1fa4640_0    conda-forge\r\n",
      "curl                      7.77.0               hb861fe1_0    conda-forge\r\n",
      "cycler                    0.10.0                     py_2    conda-forge\r\n",
      "cytoolz                   0.11.0           py38h5406a74_3    conda-forge\r\n",
      "dask-core                 2021.6.1           pyhd8ed1ab_0    conda-forge\r\n",
      "dbus                      1.13.6               ha13b53f_2    conda-forge\r\n",
      "decorator                 5.0.9              pyhd8ed1ab_0    conda-forge\r\n",
      "defusedxml                0.7.1              pyhd8ed1ab_0    conda-forge\r\n",
      "entrypoints               0.3             pyhd8ed1ab_1003    conda-forge\r\n",
      "expat                     2.4.1                he49afe7_0    conda-forge\r\n",
      "freetype                  2.10.4               h4cff582_1    conda-forge\r\n",
      "fsspec                    2021.6.0           pyhd8ed1ab_0    conda-forge\r\n",
      "gettext                   0.19.8.1          h7937167_1005    conda-forge\r\n",
      "giflib                    5.2.1                hbcb3906_2    conda-forge\r\n",
      "git                       2.30.2          pl5320h2551975_1    conda-forge\r\n",
      "glib                      2.68.3               he49afe7_0    conda-forge\r\n",
      "glib-tools                2.68.3               he49afe7_0    conda-forge\r\n",
      "icu                       68.1                 h74dc148_0    conda-forge\r\n",
      "idna                      2.10               pyh9f0ad1d_0    conda-forge\r\n",
      "imagecodecs               2021.6.8         py38hf8872ca_0    conda-forge\r\n",
      "imageio                   2.9.0                      py_0    conda-forge\r\n",
      "imctools                  2.1.7                    pypi_0    pypi\r\n",
      "importlib-metadata        4.5.0            py38h50d1736_0    conda-forge\r\n",
      "ipykernel                 5.5.5            py38h6c79ece_0    conda-forge\r\n",
      "ipython                   7.24.1           py38h6c79ece_0    conda-forge\r\n",
      "ipython_genutils          0.2.0                      py_1    conda-forge\r\n",
      "ipywidgets                7.6.3              pyhd3deb0d_0    conda-forge\r\n",
      "jbig                      2.1               h0d85af4_2003    conda-forge\r\n",
      "jedi                      0.18.0           py38h50d1736_2    conda-forge\r\n",
      "jinja2                    3.0.1              pyhd8ed1ab_0    conda-forge\r\n",
      "jpeg                      9d                   hbcb3906_0    conda-forge\r\n",
      "jsonschema                3.2.0              pyhd8ed1ab_3    conda-forge\r\n",
      "jupyter                   1.0.0            py38h50d1736_6    conda-forge\r\n",
      "jupyter_client            6.1.12             pyhd8ed1ab_0    conda-forge\r\n",
      "jupyter_console           6.4.0              pyhd8ed1ab_0    conda-forge\r\n",
      "jupyter_core              4.7.1            py38h50d1736_0    conda-forge\r\n",
      "jupyterlab_pygments       0.1.2              pyh9f0ad1d_0    conda-forge\r\n",
      "jupyterlab_widgets        1.0.0              pyhd8ed1ab_1    conda-forge\r\n",
      "jxrlib                    1.1                  h35c211d_2    conda-forge\r\n",
      "kiwisolver                1.3.1            py38hd9c93a9_1    conda-forge\r\n",
      "krb5                      1.19.1               hcfbf3a7_0    conda-forge\r\n",
      "lcms2                     2.12                 h577c468_0    conda-forge\r\n",
      "lerc                      2.2.1                h046ec9c_0    conda-forge\r\n",
      "libaec                    1.0.5                he49afe7_0    conda-forge\r\n",
      "libblas                   3.9.0                9_openblas    conda-forge\r\n",
      "libcblas                  3.9.0                9_openblas    conda-forge\r\n",
      "libclang                  11.1.0          default_he082bbe_1    conda-forge\r\n",
      "libcurl                   7.77.0               hf45b732_0    conda-forge\r\n",
      "libcxx                    11.1.0               habf9029_0    conda-forge\r\n",
      "libdeflate                1.7                  h35c211d_5    conda-forge\r\n",
      "libedit                   3.1.20191231         h0678c8f_2    conda-forge\r\n",
      "libev                     4.33                 haf1e3a3_1    conda-forge\r\n",
      "libffi                    3.3                  h046ec9c_2    conda-forge\r\n",
      "libgfortran               5.0.0           9_3_0_h6c81a4c_22    conda-forge\r\n",
      "libgfortran5              9.3.0               h6c81a4c_22    conda-forge\r\n",
      "libglib                   2.68.3               hd556434_0    conda-forge\r\n",
      "libiconv                  1.16                 haf1e3a3_0    conda-forge\r\n",
      "liblapack                 3.9.0                9_openblas    conda-forge\r\n",
      "libllvm11                 11.1.0               hd011deb_2    conda-forge\r\n",
      "libnghttp2                1.43.0               h07e645a_0    conda-forge\r\n",
      "libopenblas               0.3.15          openmp_h5e1b9a4_1    conda-forge\r\n",
      "libpng                    1.6.37               h7cec526_2    conda-forge\r\n",
      "libpq                     13.3                 hea3049e_0    conda-forge\r\n",
      "libsodium                 1.0.18               hbcb3906_1    conda-forge\r\n",
      "libssh2                   1.9.0                h52ee1ee_6    conda-forge\r\n",
      "libtiff                   4.3.0                h1167814_1    conda-forge\r\n",
      "libwebp-base              1.2.0                h0d85af4_2    conda-forge\r\n",
      "libzopfli                 1.0.3                h046ec9c_0    conda-forge\r\n",
      "llvm-openmp               11.1.0               hda6cdc1_1    conda-forge\r\n",
      "locket                    0.2.0                      py_2    conda-forge\r\n",
      "lz4-c                     1.9.3                h046ec9c_0    conda-forge\r\n",
      "markupsafe                2.0.1            py38h96a0964_0    conda-forge\r\n",
      "matplotlib                3.4.2            py38h50d1736_0    conda-forge\r\n",
      "matplotlib-base           3.4.2            py38h6152e83_0    conda-forge\r\n",
      "matplotlib-inline         0.1.2              pyhd8ed1ab_2    conda-forge\r\n",
      "mistune                   0.8.4           py38h5406a74_1003    conda-forge\r\n",
      "mysql-common              8.0.25               h694c41f_2    conda-forge\r\n",
      "mysql-libs                8.0.25               h115446f_2    conda-forge\r\n",
      "nbclient                  0.5.3              pyhd8ed1ab_0    conda-forge\r\n",
      "nbconvert                 6.0.7            py38h50d1736_3    conda-forge\r\n",
      "nbformat                  5.1.3              pyhd8ed1ab_0    conda-forge\r\n",
      "ncurses                   6.2                  h2e338ed_4    conda-forge\r\n",
      "nest-asyncio              1.5.1              pyhd8ed1ab_0    conda-forge\r\n",
      "networkx                  2.5                        py_0    conda-forge\r\n",
      "notebook                  6.4.0              pyha770c72_0    conda-forge\r\n",
      "nspr                      4.30                 hcd9eead_0    conda-forge\r\n",
      "nss                       3.67                 h31e2bf1_0    conda-forge\r\n",
      "numpy                     1.20.3           py38had91d27_1    conda-forge\r\n",
      "olefile                   0.46               pyh9f0ad1d_1    conda-forge\r\n",
      "openjpeg                  2.4.0                h6e7aa92_1    conda-forge\r\n",
      "openssl                   1.1.1k               h0d85af4_0    conda-forge\r\n",
      "packaging                 20.9               pyh44b312d_0    conda-forge\r\n",
      "pandas                    1.2.4            py38h1f261ad_0    conda-forge\r\n",
      "pandoc                    2.14.0.2             h0d85af4_0    conda-forge\r\n",
      "pandocfilters             1.4.2                      py_1    conda-forge\r\n",
      "parso                     0.8.2              pyhd8ed1ab_0    conda-forge\r\n",
      "partd                     1.2.0              pyhd8ed1ab_0    conda-forge\r\n",
      "pcre                      8.45                 he49afe7_0    conda-forge\r\n",
      "perl                      5.32.1          0_h0d85af4_perl5    conda-forge\r\n",
      "pexpect                   4.8.0              pyh9f0ad1d_2    conda-forge\r\n",
      "pickleshare               0.7.5                   py_1003    conda-forge\r\n",
      "pillow                    8.2.0            py38h83525de_1    conda-forge\r\n",
      "pip                       21.1.2             pyhd8ed1ab_0    conda-forge\r\n",
      "pooch                     1.4.0              pyhd8ed1ab_0    conda-forge\r\n",
      "prometheus_client         0.11.0             pyhd8ed1ab_0    conda-forge\r\n",
      "prompt-toolkit            3.0.19             pyha770c72_0    conda-forge\r\n",
      "prompt_toolkit            3.0.19               hd8ed1ab_0    conda-forge\r\n",
      "ptyprocess                0.7.0              pyhd3deb0d_0    conda-forge\r\n",
      "pycparser                 2.20               pyh9f0ad1d_2    conda-forge\r\n",
      "pygments                  2.9.0              pyhd8ed1ab_0    conda-forge\r\n",
      "pyopenssl                 20.0.1             pyhd8ed1ab_0    conda-forge\r\n",
      "pyparsing                 2.4.7              pyh9f0ad1d_0    conda-forge\r\n",
      "pyqt                      5.12.3           py38h50d1736_7    conda-forge\r\n",
      "pyqt-impl                 5.12.3           py38h721a93c_7    conda-forge\r\n",
      "pyqt5-sip                 4.19.18          py38h5745d40_7    conda-forge\r\n",
      "pyqtchart                 5.12             py38h721a93c_7    conda-forge\r\n",
      "pyqtwebengine             5.12.1           py38h721a93c_7    conda-forge\r\n",
      "pyrsistent                0.17.3           py38h5406a74_2    conda-forge\r\n",
      "pysocks                   1.7.1            py38h50d1736_3    conda-forge\r\n",
      "python                    3.8.10          h0e5c897_0_cpython    conda-forge\r\n",
      "python-dateutil           2.8.1                      py_0    conda-forge\r\n",
      "python_abi                3.8                      1_cp38    conda-forge\r\n",
      "pytz                      2021.1             pyhd8ed1ab_0    conda-forge\r\n",
      "pywavelets                1.1.1            py38hc7193ba_3    conda-forge\r\n",
      "pyyaml                    5.4.1            py38h5406a74_0    conda-forge\r\n",
      "pyzmq                     22.1.0           py38hd3b92b6_0    conda-forge\r\n",
      "qt                        5.12.9               h126340a_4    conda-forge\r\n",
      "qtconsole                 5.1.0              pyhd8ed1ab_0    conda-forge\r\n",
      "qtpy                      1.9.0                      py_0    conda-forge\r\n",
      "readline                  8.1                  h05e3726_0    conda-forge\r\n",
      "requests                  2.25.1             pyhd3deb0d_0    conda-forge\r\n",
      "scikit-image              0.18.1           py38he9f00de_0    conda-forge\r\n",
      "scipy                     1.6.3            py38h431c0a8_0    conda-forge\r\n",
      "send2trash                1.5.0                      py_0    conda-forge\r\n",
      "setuptools                49.6.0           py38h50d1736_3    conda-forge\r\n",
      "six                       1.16.0             pyh6c4a22f_0    conda-forge\r\n",
      "snappy                    1.1.8                hb1e8313_3    conda-forge\r\n",
      "sqlite                    3.36.0               h23a322b_0    conda-forge\r\n",
      "terminado                 0.10.1           py38h50d1736_0    conda-forge\r\n",
      "testpath                  0.5.0              pyhd8ed1ab_0    conda-forge\r\n",
      "tifffile                  2021.6.14          pyhd8ed1ab_0    conda-forge\r\n",
      "tk                        8.6.10               h0419947_1    conda-forge\r\n",
      "toolz                     0.11.1                     py_0    conda-forge\r\n",
      "tornado                   6.1              py38h5406a74_1    conda-forge\r\n",
      "traitlets                 5.0.5                      py_0    conda-forge\r\n",
      "typing-extensions         3.10.0.0                 pypi_0    pypi\r\n",
      "urllib3                   1.26.5             pyhd8ed1ab_0    conda-forge\r\n",
      "wcwidth                   0.2.5              pyh9f0ad1d_2    conda-forge\r\n",
      "webencodings              0.5.1                      py_1    conda-forge\r\n",
      "wheel                     0.36.2             pyhd3deb0d_0    conda-forge\r\n",
      "widgetsnbextension        3.5.1            py38h50d1736_4    conda-forge\r\n",
      "xmltodict                 0.12.0                   pypi_0    pypi\r\n",
      "xtiff                     0.7.6                    pypi_0    pypi\r\n",
      "xz                        5.2.5                haf1e3a3_1    conda-forge\r\n",
      "yaml                      0.2.5                haf1e3a3_0    conda-forge\r\n",
      "zeromq                    4.3.4                h1c7c35f_0    conda-forge\r\n",
      "zfp                       0.5.5                he49afe7_5    conda-forge\r\n",
      "zipp                      3.4.1              pyhd8ed1ab_0    conda-forge\r\n",
      "zlib                      1.2.11            h7795811_1010    conda-forge\r\n",
      "zstd                      1.5.0                h582d3a0_0    conda-forge\r\n"
     ]
    },
    {
     "name": "stdout",
     "output_type": "stream",
     "text": [
      "\n",
      "Note: you may need to restart the kernel to use updated packages.\n"
     ]
    }
   ],
   "source": [
    "conda list"
   ]
  },
  {
   "cell_type": "markdown",
   "metadata": {},
   "source": [
    "# Next steps\n",
    "\n",
    "This concludes the conversion of the IMC rawdata into usable TIFFs.\n",
    "\n",
    "The pipelines can be found in the `cp4_pipeline` folder in this repository. They were tested in `cellprofiler 4.0.6).\n",
    "\n",
    "The next steps are:\n",
    "\n",
    "### A) Cellprofiler: 1_prepare_ilastik\n",
    "\n",
    "In this module we prepare the data for Ilastik pixel classification, by first removing strong outlier pixels, then scaling the images 2x and then taking random 500x500 crops to do the train the pixel classifier.\n",
    "\n",
    "Note: for large datasets 250x250 crops or smaler should suffice!\n",
    "\n",
    "The following parts of this module need to be adapted:\n",
    "\n",
    "1) File list: choose all files in the `tiff` subfolder\n",
    "\n",
    "2) Default Output Folder: Choose the `ilastik` subfolder\n",
    "\n",
    "No further parts need to be adapted.\n",
    "In our 16 core computer this step takes ca 5 min for the example dataset.\n",
    "\n",
    "\n",
    "### B) Ilatik: Train a pixel classifier\n",
    "\n",
    "This uses the random crops generated in the last step.\n",
    "\n",
    "1) Make a new `pixel classification project`. -> An example project that works with the example data can be found in the 'analysis' subfolder.\n",
    "\n",
    "2) Add the `.h5` random crops: Raw data -> Add Seperate Images -> Select all `.h5` images in the `ilastik` subfolder.\n",
    "\n",
    "3) Proceed to `Feature Selection`\n",
    "\n",
    "4) Select suitable features (or just everything >= 1 pixels)\n",
    "\n",
    "5) Proceed to the classification:\n",
    "\n",
    "    - Add 3 labels:\n",
    "        - 1: Nuclei\n",
    "        - 2: Cytoplasma/membrane\n",
    "        - 3: Background\n",
    "        - -> For large datasets adding the labels can take a while\n",
    "    - Start labeling:\n",
    "        - The box next to `Input Data` can change the channels. What each channel corresponds to can be seen when looking in any of the `..._ilastik.csv` files in the `tiff` folder. The 0 channel correspond to the sum of all channels, very usefull to label the background.\n",
    "        - Use window leveling change the contrast. Right click on the `Input Data` -> `Adjust Thresholds` is also very usefull\n",
    "        - Label opiniated: If you see in the nucleus channel that two nuclei are stuck together but have a faint dip in intensity in between, label this as 2: Cytoplasma. Encyrcle nuclei with Cytoplasma\n",
    "        - Diseable `Live Update` for performance\n",
    "        - Frequently check the `Uncertainties`: This indicates which pixels the classifier profits most if they are labeled. A well trained classifier has low uncertainty within class regions (e.g. Nuclei) and high uncertainty at class borders (e.g. between nuclei and cytoplasma).\n",
    "\n",
    "    - If you think the classifier is well trained, export the probabilities:\n",
    "        - Export Settings -> Source: Probabilities -> Choose Export Image Settings:\n",
    "            - Convert to datatype: Unsigned Integer 16 bit\n",
    "            - Renormalize: check\n",
    "            - Format: Tiff\n",
    "            - File: leave default\n",
    "        - Export all: This generates `_Probabilities.tiff` in the `ilastik` folder. They can be checked using any image viewer\n",
    "            - To generate uncertainty maps (good to identify regions that need training),\n",
    "            run the `Convert probabilities to uncertainties` section `#For training` below. This will put uncertainties in the uncertainty folder.\n",
    "            -> Well trained classifiers have low uncertainty (transparent) everywhere but at class borders which should be white.\n",
    "\n",
    "        - Optional: Train again regions with high uncertainty, then proceed.\n",
    "\n",
    "        - Batch processing: -> Select raw data files -> select all `_s2.h5` files in the `tiff` folder. (sort by filetype, select all `H5` files).\n",
    "            -> This step takes a while and is computationally intensive!\n",
    "            -> Ca 15 min on 10 cores on the example data\n",
    "\n",
    "        - Optional: use the below probability to uncertainty `#For the data` to convert all proabilities to uncertainties, check if there are any regions of high uncertainty and optionally crop the corresponding image part in imagej and add it to the training data.\n",
    "        - Note: store the `ilastik` folder with all the random crops and the trained classifier for reproducibility reasons.\n",
    "        \n",
    "        - A trained\n",
    "\n",
    "### C) Cellprofiler: 2_segment_ilastik\n",
    "\n",
    "This step will segment the probabilities into masks.\n",
    "\n",
    "Things to adapt:\n",
    "\n",
    "1) File list: choose again all files from the `tiffs` folder\n",
    "\n",
    "2) It is important to check the `IdentifyPrimaryObjects` step, if the segmentation settings are suitable!\n",
    "    This might vary strongly between cell/tissue/training and needs attention! Use the test mode and try various settings.\n",
    "    Also note the `smooth` step immediately before: This can be also removed, I just happen get good results with this additional step.\n",
    "\n",
    "3) Also the `MeasureObjectSizeShape` combined with `FilterObjects` is just some personal preference of mine, feel free to change\n",
    "\n",
    "4) `IdentifySecondaryObjects`: Here th mask is expanded to the full cell.\n",
    "\n",
    "5) `Rescale objects`: note that our segmentation was done on 2x upscaled images, this scales the masks down again. Note that potentially also the nuclei mask could be scaled down and further exported and used.\n",
    "\n",
    "6) The `Default Output Path` does not need to be adapted for this module.\n",
    "\n",
    "\n",
    "Note1: Seperating mask generation from mask measurement adds modularity and is thus highly recommended, as generating masks is one of the most resource intensive steps.\n",
    "\n",
    "\n",
    "### D) Cellprofiler: 3_measure_mask\n",
    "\n",
    "This step is not necessary for `HistoCat` only analysis. If `HistoCat` should be used, use the `Generate the histocat folder with masks` section below.\n",
    "\n",
    "#### 3_measure_mask_basic\n",
    "\n",
    "This module measures without considering spillover correction.\n",
    "\n",
    "1) File list: choose again all files from the `tiffs` folder\n",
    "\n",
    "2) View Output settings: set the `Default output folder` to the `cpout` folder and the\n",
    "    `Default input folder` to the `cpint` folder.\n",
    "\n",
    "3) Metadata: update - this will automatically merge the mcd metadata .csv generated earlier in the script with your images.\n",
    "\n",
    "4) Names and types: click update\n",
    "\n",
    "5) `Measure Object Intensity Multichannel`: Adapt the channel numbers. Check the `_full.csv` files in the `tiffs` folder to see how many channels the stack have and adapt accordingly.\n",
    "\n",
    "6) `Measure Image Intensity Multichannel`: Adapt the channel numbers. Check the `_full.csv` files in the `tiffs` folder to see how many channels the stack have and adapt accordingly.\n",
    "\n",
    "Notes:\n",
    "- In this pipeline all the intesities are scaled by `1/(2**16)`\n",
    "- The mapping between channel number c1, c2, c3 corresponds to the position in the `_full.csv`s found in the `tiffs` folder.\n",
    "- The original acquisition description, acquisition frequencies etc can be found in the `Image.csv` output as `Metdata_...` columns.\n",
    "- This outputs a lot of measurements that are acutally of little interest - usually we only look at `meanintensity` per channel and cell.\n",
    "    To reduce the outputs, select in `Export To Spreadsheet` -> `Select Measurements to Export` -> Only the measurements you want (usually all Image measurements and only the `MeanIntensity` fullstack measurements).\n",
    "- The `FullStack` can also be not measured, as it is almost identical to the `FullStackFiltered`.\n",
    "\n",
    "#### 3_measure_mask_compensated\n",
    "This will also have a spillover corrections step - stay tuned!\n",
    "\n",
    "\n",
    "### E) Pipeline output\n",
    "\n",
    "The pipeline output is all in the `cpout` folder.\n",
    "\n",
    "Files and folders:\n",
    "- Image.csv: Image level metadata\n",
    "- var_Image.csv: Metadata for the colums in Image.csv.\n",
    "    This contains also metadata from the IMC such as acquisition coordinates.\n",
    "\n",
    "- {object}.csv: eg cell.csv, contains cell slice level measurements\n",
    "- var_{object}.csv: eg var_cell.csv: contains metadata for the object measurements\n",
    "\n",
    "- panel.csv: a copy of the panel used for the input\n",
    "\n",
    "- Object relationships.csv: Object neighbourhood and other relationships\n",
    "\n",
    "- Experiment.csv: Metadata about the actual measurement run (eg pipeline used,...)"
   ]
  },
  {
   "cell_type": "markdown",
   "metadata": {},
   "source": [
    "## Generate the histocat folder with masks"
   ]
  },
  {
   "cell_type": "code",
   "execution_count": 31,
   "metadata": {
    "jupyter": {
     "outputs_hidden": false
    },
    "pycharm": {
     "name": "#%%\n"
    }
   },
   "outputs": [
    {
     "name": "stdout",
     "output_type": "stream",
     "text": [
      "CPU times: user 1.35 s, sys: 1.09 s, total: 2.44 s\n",
      "Wall time: 17.3 s\n"
     ]
    }
   ],
   "source": [
    "%%time\n",
    "for fol in folder_path_ome.glob('*'):\n",
    "    ome2histocat.omefolder_to_histocatfolder(fol, folder_path_histocat,\n",
    "                                    mask_folder=folder_path_analysis, mask_suffix=suffix_mask, dtype='uint16')"
   ]
  }
 ],
 "metadata": {
  "jupytext": {
   "text_representation": {
    "extension": ".py",
    "format_name": "percent",
    "format_version": "1.3",
    "jupytext_version": "1.3.4"
   }
  },
  "kernelspec": {
   "display_name": "Python 3",
   "language": "python",
   "name": "python3"
  },
  "language_info": {
   "codemirror_mode": {
    "name": "ipython",
    "version": 3
   },
   "file_extension": ".py",
   "mimetype": "text/x-python",
   "name": "python",
   "nbconvert_exporter": "python",
   "pygments_lexer": "ipython3",
   "version": "3.8.10"
  }
 },
 "nbformat": 4,
 "nbformat_minor": 4
}
